{
 "cells": [
  {
   "cell_type": "markdown",
   "metadata": {},
   "source": [
    "## Graph Class "
   ]
  },
  {
   "cell_type": "code",
   "execution_count": 53,
   "metadata": {},
   "outputs": [],
   "source": [
    "class Vertex:\n",
    "    def __init__(self, node):\n",
    "        self.id = node\n",
    "        self.adjacent = {}\n",
    "\n",
    "    #def __str__(self):\n",
    "    #    return str(self.id) + ' adjacent: ' + str([x.id for x in self.adjacent])\n",
    "\n",
    "    def add_neighbor(self, neighbor, weight=0):\n",
    "        self.adjacent[neighbor] = weight\n",
    "\n",
    "    def get_connections(self):\n",
    "        return self.adjacent.keys()  \n",
    "\n",
    "    def get_id(self):\n",
    "        return self.id\n",
    "\n",
    "    def get_weight(self, neighbor):\n",
    "        return self.adjacent[neighbor]\n",
    "\n",
    "class Graph:\n",
    "    def __init__(self):\n",
    "        self.vert_dict = {}\n",
    "        self.num_vertices = 0\n",
    "\n",
    "    def __iter__(self):\n",
    "        return iter(self.vert_dict.values())\n",
    "\n",
    "    def add_vertex(self, node):\n",
    "        self.num_vertices = self.num_vertices + 1\n",
    "        new_vertex = Vertex(node)\n",
    "        self.vert_dict[node] = new_vertex\n",
    "        return new_vertex\n",
    "\n",
    "    def get_vertex(self, n):\n",
    "        if n in self.vert_dict:\n",
    "            return self.vert_dict[n]\n",
    "        else:\n",
    "            return None\n",
    "\n",
    "    def add_edge(self, frm, to, cost = 0):\n",
    "        if frm not in self.vert_dict:\n",
    "            self.add_vertex(frm)\n",
    "        if to not in self.vert_dict:\n",
    "            self.add_vertex(to)\n",
    "\n",
    "        self.vert_dict[frm].add_neighbor(self.vert_dict[to], cost)\n",
    "        self.vert_dict[to].add_neighbor(self.vert_dict[frm], cost)\n",
    "\n",
    "    def get_vertices(self):\n",
    "        return self.vert_dict.keys()"
   ]
  },
  {
   "cell_type": "markdown",
   "metadata": {},
   "source": [
    "## Hill_Climbing_search Function"
   ]
  },
  {
   "cell_type": "code",
   "execution_count": 54,
   "metadata": {},
   "outputs": [],
   "source": [
    "def Hill_Climbing_search(start_node,G,Path_dicts):\n",
    "    adjacent = [x.id for x in G.get_vertex(start_node).adjacent]\n",
    "    #print(adjacent,\"ad\")\n",
    "    Queue = {}\n",
    "    for item in adjacent:\n",
    "        if item not in Path_dicts['{}'.format(start_node)] :\n",
    "            Queue['{}'.format(item)] = h_dict['{}'.format(item)]\n",
    "            Path_dicts['{}'.format(item)] = Path_dicts['{}'.format(start_node)] + [start_node] \n",
    "    #print(Queue)\n",
    "    #print(Path_dicts)\n",
    "    min_item = min(Queue, key=Queue.get)\n",
    "    print(\"Node Selected \",min_item)\n",
    "    if(min_item ==  str(len(Path_dicts))):\n",
    "        print(\"Path to Goal Node \",Path_dicts['{}'.format(len(Path_dicts))]+[len(Path_dicts)])\n",
    "        return 'done'\n",
    "    Queue.pop('{}'.format(min_item))\n",
    "    \n",
    "    Hill_Climbing_search(int(min_item),G,Path_dicts)"
   ]
  },
  {
   "cell_type": "markdown",
   "metadata": {},
   "source": [
    "## BFS_search Function"
   ]
  },
  {
   "cell_type": "code",
   "execution_count": 55,
   "metadata": {},
   "outputs": [],
   "source": [
    "def BFS_search(start_node,Queues,G,Path_dicts):\n",
    "    adjacent = [x.id for x in G.get_vertex(start_node).adjacent]\n",
    "    #print(adjacent,\"ad\")\n",
    "    \n",
    "    for item in adjacent:\n",
    "        if item not in Path_dicts['{}'.format(start_node)] :\n",
    "            Queues['{}'.format(item)] = h_dict['{}'.format(item)]\n",
    "            Path_dicts['{}'.format(item)] = Path_dicts['{}'.format(start_node)] + [start_node] \n",
    "    #print(Queues)\n",
    "    #print(Path_dicts)\n",
    "    min_item = min(Queues, key=Queues.get)\n",
    "    print(\"Node Selected \",min_item)\n",
    "    if(min_item == str(len(Path_dicts))):\n",
    "        print(\"Path to Goal Node \",Path_dicts['{}'.format(len(Path_dicts))]+[len(Path_dicts)])\n",
    "        return 'done' \n",
    "    Queues.pop('{}'.format(min_item))\n",
    "    \n",
    "    BFS_search(int(min_item),Queues,G,Path_dicts)"
   ]
  },
  {
   "cell_type": "markdown",
   "metadata": {},
   "source": [
    "## Astar_search Function"
   ]
  },
  {
   "cell_type": "code",
   "execution_count": 56,
   "metadata": {},
   "outputs": [],
   "source": [
    "def Astar_search(start_node,H_cost_dicts,G,Path_dicts,F_cost_dicts):\n",
    "    adjacent = [x.id for x in G.get_vertex(start_node).adjacent]\n",
    "    \n",
    "    for item in adjacent:\n",
    "        if item not in Path_dicts['{}'.format(start_node)] :\n",
    "            Path_dicts['{}'.format(item)] = Path_dicts['{}'.format(start_node)] + [start_node]\n",
    "            F_cost_dicts['{}'.format(item)] = F_cost_dicts['{}'.format(start_node)] + G.get_vertex(start_node).get_weight(G.get_vertex(item))\n",
    "            H_cost_dicts['{}'.format(item)] = h_dict['{}'.format(item)] + F_cost_dicts['{}'.format(item)]\n",
    "           \n",
    "    #print(\"H_cost_dicts\",H_cost_dicts)\n",
    "    #print(\"F_cost_dicts\",F_cost_dicts)\n",
    "    #print(Path_dicts)\n",
    "    min_item = min(H_cost_dicts, key=H_cost_dicts.get)\n",
    "    print(\"Node Selected \",min_item)\n",
    "    if(min_item ==  str(len(Path_dicts))):\n",
    "        print(\"Path to Goal Node \",Path_dicts['{}'.format(len(Path_dicts))]+[len(Path_dicts)])\n",
    "        return 'done'\n",
    "    H_cost_dicts.pop('{}'.format(min_item))\n",
    "    \n",
    "    Astar_search(int(min_item),H_cost_dicts,G,Path_dicts,F_cost_dicts)  \n",
    "\n"
   ]
  },
  {
   "cell_type": "markdown",
   "metadata": {},
   "source": [
    "##  Beam_search Function"
   ]
  },
  {
   "cell_type": "code",
   "execution_count": 57,
   "metadata": {},
   "outputs": [],
   "source": [
    "def Beam_search_helper(start_node1,start_node2,start_node3,Queues,G,Path_dicts):\n",
    "    adjacent1 = [x.id for x in G.get_vertex(start_node1).adjacent]\n",
    "    adjacent2 = [x.id for x in G.get_vertex(start_node2).adjacent]\n",
    "    adjacent3 = [x.id for x in G.get_vertex(start_node3).adjacent]\n",
    "    #print(adjacent,\"ad\")\n",
    "    \n",
    "    for item in adjacent1:\n",
    "        if item not in Path_dicts['{}'.format(start_node1)] :\n",
    "            Queues['{}'.format(item)] = h_dict['{}'.format(item)]\n",
    "            Path_dicts['{}'.format(item)] = Path_dicts['{}'.format(start_node1)] + [start_node1] \n",
    "    for item in adjacent2:\n",
    "        if item not in Path_dicts['{}'.format(start_node2)] :\n",
    "            Queues['{}'.format(item)] = h_dict['{}'.format(item)]\n",
    "            Path_dicts['{}'.format(item)] = Path_dicts['{}'.format(start_node2)] + [start_node2] \n",
    "    for item in adjacent3:\n",
    "        if item not in Path_dicts['{}'.format(start_node3)] :\n",
    "            Queues['{}'.format(item)] = h_dict['{}'.format(item)]\n",
    "            Path_dicts['{}'.format(item)] = Path_dicts['{}'.format(start_node3)] + [start_node3] \n",
    "            \n",
    "    #print(Queues)\n",
    "    #print(Path_dicts)\n",
    "    min_item1 = min(Queues, key=Queues.get)\n",
    "    print(\"Node Selected \",min_item1)\n",
    "    if(min_item1 ==  str(len(Path_dicts))):\n",
    "        print(\"Path to Goal Node \",Path_dicts['{}'.format(len(Path_dicts))]+[len(Path_dicts)])\n",
    "        return 'done'\n",
    "    Queues.pop('{}'.format(min_item1))\n",
    "    min_item2 = min(Queues, key=Queues.get)\n",
    "    print(\"Node Selected \",min_item2)\n",
    "    if(min_item2 ==  str(len(Path_dicts))):\n",
    "        print(\"Path to Goal Node \",Path_dicts['{}'.format(len(Path_dicts))]+[len(Path_dicts)])\n",
    "        return 'done'\n",
    "    Queues.pop('{}'.format(min_item2))\n",
    "    min_item3 = min(Queues, key=Queues.get)\n",
    "    print(\"Node Selected \",min_item3)\n",
    "    if(min_item3 ==  str(len(Path_dicts))):\n",
    "        print(\"Path to Goal Node \",Path_dicts['{}'.format(len(Path_dicts))]+[len(Path_dicts)])\n",
    "        return 'done'\n",
    "    Queues.pop('{}'.format(min_item3))\n",
    "    \n",
    "    \n",
    "    Beam_search_helper(int(min_item1),int(min_item2),int(min_item3),Queues,G,Path_dicts)\n",
    "\n",
    "def Beam_search(start_node1,Queues,G,Path_dicts):\n",
    "    Beam_search_helper(start_node1,start_node1,start_node1,Queues,G,Path_dicts)\n",
    "    "
   ]
  },
  {
   "cell_type": "markdown",
   "metadata": {},
   "source": [
    "## Hill_Beam_search Function -- Alternate Hill climbing and Beam Search on  Random Graph"
   ]
  },
  {
   "cell_type": "code",
   "execution_count": 1,
   "metadata": {},
   "outputs": [],
   "source": [
    "def Hill_Beam_search(start_node,G,Path_dicts):\n",
    "    adjacent = [x.id for x in G.get_vertex(start_node).adjacent]\n",
    "    #print(adjacent,\"ad\")\n",
    "    Queue = {}\n",
    "    for item in adjacent:\n",
    "        if item not in Path_dicts['{}'.format(start_node)] :\n",
    "            Queue['{}'.format(item)] = h_dict['{}'.format(item)]\n",
    "            Path_dicts['{}'.format(item)] = Path_dicts['{}'.format(start_node)] + [start_node] \n",
    "    #print(Queue)\n",
    "    #print(Path_dicts)\n",
    "    min_item = min(Queue, key=Queue.get)\n",
    "    print(\"Node Selected \",min_item)\n",
    "    if(min_item ==  str(len(Path_dicts))):\n",
    "        print(\"Path to Goal Node \",Path_dicts['{}'.format(len(Path_dicts))]+[len(Path_dicts)])\n",
    "        return 'done'\n",
    "    Queue.pop('{}'.format(min_item))\n",
    "    \n",
    "    Hill_Beam_search_helper1(int(min_item),int(min_item),int(min_item),Queue,G,Path_dicts)\n",
    "    \n",
    "def Hill_Beam_search_helper1(start_node1,start_node2,start_node3,Queues,G,Path_dicts):\n",
    "    adjacent1 = [x.id for x in G.get_vertex(start_node1).adjacent]\n",
    "    adjacent2 = [x.id for x in G.get_vertex(start_node2).adjacent]\n",
    "    adjacent3 = [x.id for x in G.get_vertex(start_node3).adjacent]\n",
    "    #print(adjacent,\"ad\")\n",
    "    \n",
    "    for item in adjacent1:\n",
    "        if item not in Path_dicts['{}'.format(start_node1)] :\n",
    "            Queues['{}'.format(item)] = h_dict['{}'.format(item)]\n",
    "            Path_dicts['{}'.format(item)] = Path_dicts['{}'.format(start_node1)] + [start_node1] \n",
    "    for item in adjacent2:\n",
    "        if item not in Path_dicts['{}'.format(start_node2)] :\n",
    "            Queues['{}'.format(item)] = h_dict['{}'.format(item)]\n",
    "            Path_dicts['{}'.format(item)] = Path_dicts['{}'.format(start_node2)] + [start_node2] \n",
    "    for item in adjacent3:\n",
    "        if item not in Path_dicts['{}'.format(start_node3)] :\n",
    "            Queues['{}'.format(item)] = h_dict['{}'.format(item)]\n",
    "            Path_dicts['{}'.format(item)] = Path_dicts['{}'.format(start_node3)] + [start_node3] \n",
    "            \n",
    "    #print(Queues)\n",
    "    #print(Path_dicts)\n",
    "    min_item1 = min(Queues, key=Queues.get)\n",
    "    print(\"Node Selected \",min_item1)\n",
    "    if(min_item1 ==  str(len(Path_dicts))):\n",
    "        print(\"Path to Goal Node \",Path_dicts['{}'.format(len(Path_dicts))]+[len(Path_dicts)])\n",
    "        return 'done'\n",
    "    Queues.pop('{}'.format(min_item1))\n",
    "    min_item2 = min(Queues, key=Queues.get)\n",
    "    print(\"Node Selected \",min_item2)\n",
    "    if(min_item2 ==  str(len(Path_dicts))):\n",
    "        print(\"Path to Goal Node \",Path_dicts['{}'.format(len(Path_dicts))]+[len(Path_dicts)])\n",
    "        return 'done'\n",
    "    Queues.pop('{}'.format(min_item2))\n",
    "    min_item3 = min(Queues, key=Queues.get)\n",
    "    print(\"Node Selected \",min_item3)\n",
    "    if(min_item3 ==  str(len(Path_dicts))):\n",
    "        print(\"Path to Goal Node \",Path_dicts['{}'.format(len(Path_dicts))]+[len(Path_dicts)])\n",
    "        return 'done'\n",
    "    Queues.pop('{}'.format(min_item3))\n",
    "    \n",
    "    \n",
    "    Hill_Beam_search_helper2(int(min_item1),int(min_item2),int(min_item3),Queues,G,Path_dicts) \n",
    "\n",
    "def Hill_Beam_search_helper2(start_node1,start_node2,start_node3,Queues,G,Path_dicts):\n",
    "    adjacent1 = [x.id for x in G.get_vertex(start_node1).adjacent]\n",
    "    adjacent2 = [x.id for x in G.get_vertex(start_node2).adjacent]\n",
    "    adjacent3 = [x.id for x in G.get_vertex(start_node3).adjacent]\n",
    "    \n",
    "    for item in adjacent1:\n",
    "        if item not in Path_dicts['{}'.format(start_node1)] :\n",
    "            Queues['{}'.format(item)] = h_dict['{}'.format(item)]\n",
    "            Path_dicts['{}'.format(item)] = Path_dicts['{}'.format(start_node1)] + [start_node1] \n",
    "    for item in adjacent2:\n",
    "        if item not in Path_dicts['{}'.format(start_node2)] :\n",
    "            Queues['{}'.format(item)] = h_dict['{}'.format(item)]\n",
    "            Path_dicts['{}'.format(item)] = Path_dicts['{}'.format(start_node2)] + [start_node2] \n",
    "    for item in adjacent3:\n",
    "        if item not in Path_dicts['{}'.format(start_node3)] :\n",
    "            Queues['{}'.format(item)] = h_dict['{}'.format(item)]\n",
    "            Path_dicts['{}'.format(item)] = Path_dicts['{}'.format(start_node3)] + [start_node3] \n",
    "            \n",
    "    #print(Queues)\n",
    "    \n",
    "    min_item1 = min(Queues, key=Queues.get)\n",
    "    print(\"Node Selected \",min_item1)\n",
    "    if(min_item1 ==  str(len(Path_dicts))):\n",
    "        print(\"Path to Goal Node \",Path_dicts['{}'.format(len(Path_dicts))]+[len(Path_dicts)])\n",
    "        return 'done'\n",
    "    Queues.pop('{}'.format(min_item1))\n",
    "\n",
    "\n",
    "    \n",
    "    Hill_Beam_search(int(min_item1),G,Path_dicts)    \n"
   ]
  },
  {
   "cell_type": "markdown",
   "metadata": {},
   "source": [
    "## Generating Random Connected Graph and Initializing Various Parameter"
   ]
  },
  {
   "cell_type": "code",
   "execution_count": 60,
   "metadata": {},
   "outputs": [
    {
     "name": "stdout",
     "output_type": "stream",
     "text": [
      "1    [4, 7, 2, 10]\n",
      "2    [1, 2, 3, 4, 5, 6, 7, 8, 9, 10]\n",
      "3    [10, 8, 2]\n",
      "4    [4, 1, 7, 9, 2]\n",
      "5    [6, 9, 2]\n",
      "6    [8, 10, 5, 2]\n",
      "7    [8, 1, 4, 2]\n",
      "8    [6, 3, 9, 8, 7, 10, 2]\n",
      "9    [5, 8, 4, 2]\n",
      "10    [3, 6, 8, 1, 2]\n",
      "BFS_search \n",
      "Node Selected  10\n",
      "Path to Goal Node  [1, 10]\n",
      "Time taken in seconds 0.000308990478515625 \n",
      "-----------------------------------------------------------------------------------\n",
      "Hill_Climbing_search\n",
      "Node Selected  10\n",
      "Path to Goal Node  [1, 10]\n",
      "Time taken in seconds 0.0008420944213867188 \n",
      "-----------------------------------------------------------------------------------\n",
      "Astar_search\n",
      "Node Selected  4\n",
      "Node Selected  4\n",
      "Node Selected  10\n",
      "Path to Goal Node  [1, 10]\n",
      "Time taken in seconds 0.0017192363739013672 \n",
      "-----------------------------------------------------------------------------------\n",
      "Beam_search\n",
      "Node Selected  10\n",
      "Path to Goal Node  [1, 10]\n",
      "Time taken in seconds 0.0024819374084472656 \n",
      "-----------------------------------------------------------------------------------\n",
      "Hill_Beam_search\n",
      "Node Selected  10\n",
      "Path to Goal Node  [1, 10]\n",
      "Time taken in seconds 0.0030221939086914062 \n",
      "-----------------------------------------------------------------------------------\n"
     ]
    }
   ],
   "source": [
    "import random\n",
    "import os\n",
    "import psutil\n",
    "import time\n",
    "import matplotlib.pyplot as plt   \n",
    "if __name__ == '__main__':\n",
    "\n",
    "    g = Graph()\n",
    "    no_of_nodes = 10\n",
    "    Goal_node = 10\n",
    "    h_dict = {}\n",
    "    h_dict['{}'.format(no_of_nodes)] = 0\n",
    "    Path_dict = {}\n",
    "    Path_dict['{}'.format(no_of_nodes)] = []\n",
    "    queues = {}\n",
    "    F_Cost_dict = {}\n",
    "    F_Cost_dict['{}'.format(no_of_nodes)] = 0\n",
    "    for i in range(1,no_of_nodes):\n",
    "        h_dict['{}'.format(i)] = random.randint(1,random.randint(1,no_of_nodes*4))\n",
    "        Path_dict['{}'.format(i)] = []\n",
    "        F_Cost_dict['{}'.format(i)] = 0\n",
    "    for i in range(no_of_nodes*2):\n",
    "        g.add_edge(random.randint(1,no_of_nodes),random.randint(1,no_of_nodes),random.randint(1,no_of_nodes*2))\n",
    "    random_node = random.randint(2,no_of_nodes-1)\n",
    "    for i in range(1,no_of_nodes+1):\n",
    "        g.add_edge(random_node,i,random.randint(1,random.randint(1,no_of_nodes*2)))\n",
    "    for i in range(1,no_of_nodes+1):\n",
    "        print(i,\"  \",[x.id for x in g.get_vertex(i).adjacent])\n",
    "\n"
   ]
  },
  {
   "cell_type": "markdown",
   "metadata": {},
   "source": [
    "## Calling each Method and Calculating running time"
   ]
  },
  {
   "cell_type": "code",
   "execution_count": null,
   "metadata": {},
   "outputs": [],
   "source": [
    "start_time1 = time.time()\n",
    "print(\"BFS_search \")\n",
    "BFS_search(1,queues,g,Path_dict)\n",
    "print(\"Time taken in seconds %s \" % (time.time() - start_time1))\n",
    "print(\"-----------------------------------------------------------------------------------\")\n",
    "\n",
    "start_time2 = time.time()\n",
    "print(\"Hill_Climbing_search\")\n",
    "Hill_Climbing_search(1,g,Path_dict)\n",
    "print(\"Time taken in seconds %s \" % (time.time() - start_time2))\n",
    "print(\"-----------------------------------------------------------------------------------\")\n",
    "\n",
    "start_time3 = time.time()\n",
    "print(\"Astar_search\")\n",
    "Astar_search( 1 ,queues,g,Path_dict,F_Cost_dict)\n",
    "print(\"Time taken in seconds %s \" % (time.time() - start_time3))\n",
    "print(\"-----------------------------------------------------------------------------------\")\n",
    "\n",
    "start_time4 = time.time()\n",
    "print(\"Beam_search\")\n",
    "Beam_search(1,queues,g,Path_dict)\n",
    "print(\"Time taken in seconds %s \" % (time.time() - start_time4))\n",
    "print(\"-----------------------------------------------------------------------------------\")\n",
    "\n",
    "start_time5 = time.time()\n",
    "print(\"Hill_Beam_search\")\n",
    "Hill_Beam_search(1,g,Path_dict)\n",
    "print(\"Time taken in seconds %s \" % (time.time() - start_time5))\n",
    "print(\"-----------------------------------------------------------------------------------\")"
   ]
  },
  {
   "cell_type": "markdown",
   "metadata": {},
   "source": [
    "# Memory and Time Usage for Each Algorithm on different Input size."
   ]
  },
  {
   "cell_type": "code",
   "execution_count": 62,
   "metadata": {},
   "outputs": [
    {
     "name": "stdout",
     "output_type": "stream",
     "text": [
      "Memory Uasge  84471808\n"
     ]
    }
   ],
   "source": [
    "import resource\n",
    "resource.getrusage(resource.RUSAGE_SELF).ru_maxrss\n",
    "\n",
    "\n",
    "process = psutil.Process(os.getpid())\n",
    "print(\"Memory Uasge \",process.memory_info()[0])\n"
   ]
  },
  {
   "cell_type": "code",
   "execution_count": 63,
   "metadata": {},
   "outputs": [],
   "source": [
    "# Kunals-MacBook-Air:Downloads kunal$ python3 Heuristic\\ Search.py\n",
    "# no_of_nodes   10\n",
    "# Hill_Climbing_search\n",
    "# Path to Goal Node  [1, 10]\n",
    "# Time taken in seconds 0.00010180473327636719 \n",
    "# Memory used  10739712\n",
    "# Kunals-MacBook-Air:Downloads kunal$ python3 Heuristic\\ Search.py\n",
    "# no_of_nodes   100\n",
    "# Hill_Climbing_search\n",
    "# Path to Goal Node  [1, 96, 73, 4, 91, 76, 70, 70, 100]\n",
    "# Time taken in seconds 0.0011217594146728516 \n",
    "# Memory used  10813440\n",
    "# Kunals-MacBook-Air:Downloads kunal$ python3 Heuristic\\ Search.py\n",
    "# no_of_nodes   500\n",
    "# Hill_Climbing_search\n",
    "# Path to Goal Node  [1, 350, 458, 182, 249, 249, 411, 240, 418, 237, 245, 232, 475, 125, 248, 105, 121, 468, 320, 102, 47, 246, 83, 455, 455, 500]\n",
    "# Time taken in seconds 0.0032639503479003906 \n",
    "# Memory used  11358208\n",
    "# Kunals-MacBook-Air:Downloads kunal$ python3 Heuristic\\ Search.py\n",
    "# no_of_nodes   1000\n",
    "# Hill_Climbing_search\n",
    "# Path to Goal Node  [1, 192, 242, 690, 799, 612, 411, 981, 770, 427, 871, 745, 763, 109, 4, 4, 1000]\n",
    "# Time taken in seconds 0.0037767887115478516 \n",
    "# Memory used  11988992\n",
    "# Kunals-MacBook-Air:Downloads kunal$ python3 Heuristic\\ Search.py\n",
    "# no_of_nodes   5000\n",
    "# Hill_Climbing_search\n",
    "# Path to Goal Node  [1, 4369, 3102, 1212, 3728, 2743, 729, 1264, 4031, 2684, 1943, 1943, 5000]\n",
    "# Time taken in seconds 0.018101930618286133 \n",
    "# Memory used  17190912\n",
    "# Kunals-MacBook-Air:Downloads kunal$ python3 Heuristic\\ Search.py\n",
    "# no_of_nodes   10000\n",
    "# Hill_Climbing_search\n",
    "# Path to Goal Node  [1, 8492, 8492, 10000]\n",
    "# Time taken in seconds 0.032115936279296875 \n",
    "# Memory used  23212032\n",
    "# Kunals-MacBook-Air:Downloads kunal$ python3 Heuristic\\ Search.py\n",
    "# no_of_nodes   50000\n",
    "# Hill_Climbing_search\n",
    "# Path to Goal Node  [1, 4783, 13877, 2419, 23942, 23942, 50000]\n",
    "# Time taken in seconds 0.20348715782165527 \n",
    "# Memory used  83562496\n",
    "# Kunals-MacBook-Air:Downloads kunal$ python3 Heuristic\\ Search.py\n",
    "# no_of_nodes   100000\n",
    "# Hill_Climbing_search\n",
    "# Path to Goal Node  [1, 38335, 78309, 24103, 13879, 70963, 49817, 22912, 13856, 63789, 92457, 44187, 93624, 51214, 99238, 98985, 76811, 85780, 97783, 84115, 53373, 23539, 23539, 100000]\n",
    "# Time taken in seconds 0.48791074752807617 \n",
    "# Memory used  171978752\n",
    "# Kunals-MacBook-Air:Downloads kunal$ python3 Heuristic\\ Search.py\n",
    "# no_of_nodes   500000\n",
    "# Hill_Climbing_search\n",
    "# Path to Goal Node  [1, 94800, 445483, 219362, 438037, 268447, 428178, 464955, 425896, 415993, 22556, 471581, 415643, 483044, 362378, 266393, 99934, 231168, 117070, 399864, 57272, 487087, 179432, 410829, 161470, 294277, 439808, 196286, 271126, 255063, 358639, 370635, 84888, 220271, 374337, 16798, 431316, 125429, 446675, 97123, 325585, 145919, 88317, 337994, 337994, 500000]\n",
    "# Time taken in seconds 3.05873703956604 \n",
    "# Memory used  867962880\n",
    "# Kunals-MacBook-Air:Downloads kunal$ python3 Heuristic\\ Search.py\n",
    "# no_of_nodes   1000000\n",
    "# Hill_Climbing_search\n",
    "# Path to Goal Node  [1, 478275, 230278, 367435, 690856, 716127, 716127, 1000000]\n",
    "# Time taken in seconds 4.740355014801025 \n",
    "# Memory used  1400045568\n",
    "# Kunals-MacBook-Air:Downloads kunal$ python3 Heuristic\\ Search.py\n",
    "# no_of_nodes   10000000\n",
    "# Hill_Climbing_search\n",
    "# Path to Goal Node  [1, 4453844, 4453844, 10000000]\n",
    "# Time taken in seconds 100.35815191268921 \n",
    "# Memory used  2179620864"
   ]
  },
  {
   "cell_type": "markdown",
   "metadata": {},
   "source": [
    "##  Hill Climbing Plot of Memory and Time vs Node_count"
   ]
  },
  {
   "cell_type": "code",
   "execution_count": 64,
   "metadata": {},
   "outputs": [
    {
     "data": {
      "image/png": "[encoded data removed]",
      "text/plain": [
       "<Figure size 432x288 with 1 Axes>"
      ]
     },
     "metadata": {
      "needs_background": "light"
     },
     "output_type": "display_data"
    },
    {
     "data": {
      "image/png": "[encoded data removed]",
      "text/plain": [
       "<Figure size 432x288 with 1 Axes>"
      ]
     },
     "metadata": {
      "needs_background": "light"
     },
     "output_type": "display_data"
    }
   ],
   "source": [
    "Nodes = [10,100,500,1000,5000,10000,50000,100000,500000,1000000,10000000]\n",
    "Time_required = [0.00010180473327636719,0.0011217594146728516,0.0032639503479003906,0.0037767887115478516,0.018101930618286133,0.032115936279296875,0.20348715782165527, 0.48791074752807617,3.05873703956604,4.740355014801025, 100.35815191268921]\n",
    "Memory_Used = [10739712,10813440,11358208,11988992,17190912,23212032,83562496,171978752,867962880,1400045568,2179620864]\n",
    "plt.plot(Nodes,Time_required)\n",
    "plt.xlabel('No of node')\n",
    "plt.ylabel('Time Required')\n",
    "plt.show()\n",
    "plt.title(\"Hill Climbing\")\n",
    "plt.plot(Nodes,Memory_Used)\n",
    "plt.xlabel('No of node')\n",
    "plt.ylabel('Memory Used')\n",
    "plt.show()"
   ]
  },
  {
   "cell_type": "code",
   "execution_count": 65,
   "metadata": {},
   "outputs": [],
   "source": [
    "# Kunals-MacBook-Air:Downloads kunal$ python3 Heuristic\\ Search.py\n",
    "# no_of_nodes   10\n",
    "# BFS_search \n",
    "# Path to Goal Node  [1, 8, 10]\n",
    "# Time taken in seconds 0.00016689300537109375 \n",
    "# Memory used  10760192\n",
    "# Kunals-MacBook-Air:Downloads kunal$ python3 Heuristic\\ Search.py\n",
    "# no_of_nodes   50\n",
    "# BFS_search \n",
    "# Path to Goal Node  [1, 48, 48, 50]\n",
    "# Time taken in seconds 0.00031495094299316406 \n",
    "# Memory used  10764288\n",
    "# Kunals-MacBook-Air:Downloads kunal$ python3 Heuristic\\ Search.py\n",
    "# no_of_nodes   100\n",
    "# BFS_search \n",
    "# Path to Goal Node  [1, 14, 14, 100]\n",
    "# Time taken in seconds 0.000621795654296875 \n",
    "# Memory used  10756096\n",
    "# Kunals-MacBook-Air:Downloads kunal$ python3 Heuristic\\ Search.py\n",
    "# no_of_nodes   250\n",
    "# BFS_search \n",
    "# Path to Goal Node  [1, 91, 218, 13, 87, 145, 98, 208, 163, 47, 123, 71, 175, 62, 247, 238, 221, 235, 154, 24, 110, 203, 200, 122, 187, 204, 231, 43, 90, 108, 19, 128, 117, 100, 198, 105, 42, 97, 161, 11, 171, 52, 191, 206, 180, 211, 250]\n",
    "# Time taken in seconds 0.012835025787353516 \n",
    "# Memory used  11329536\n",
    "# Kunals-MacBook-Air:Downloads kunal$ python3 Heuristic\\ Search.py\n",
    "# no_of_nodes   500\n",
    "# BFS_search \n",
    "# Path to Goal Node  [1, 332, 332, 500]\n",
    "# Time taken in seconds 0.0017430782318115234 \n",
    "# Memory used  11247616\n",
    "# Kunals-MacBook-Air:Downloads kunal$ python3 Heuristic\\ Search.py\n",
    "# no_of_nodes   1000\n",
    "# BFS_search \n",
    "# Path to Goal Node  [1, 749, 473, 787, 948, 250, 343, 984, 371, 739, 601, 329, 594, 620, 224, 881, 912, 431, 852, 220, 80, 565, 540, 357, 21, 133, 332, 175, 691, 223, 173, 634, 953, 207, 846, 545, 810, 263, 312, 293, 95, 761, 675, 559, 730, 428, 840, 826, 639, 407, 641, 459, 362, 660, 137, 952, 403, 1000]\n",
    "# Time taken in seconds 0.047949790954589844 \n",
    "# Memory used  12992512\n",
    "# Kunals-MacBook-Air:Downloads kunal$ python3 Heuristic\\ Search.py\n",
    "# no_of_nodes   2000\n",
    "# BFS_search \n",
    "# Path to Goal Node  [1, 705, 1191, 1648, 1762, 1232, 1950, 1528, 2, 1693, 1525, 231, 77, 496, 1675, 375, 376, 1496, 80, 1449, 1803, 1014, 676, 612, 731, 1725, 117, 1241, 134, 955, 1114, 948, 1635, 673, 456, 445, 1791, 124, 514, 840, 520, 1234, 1671, 515, 7, 994, 1830, 433, 293, 526, 1389, 1274, 585, 1082, 1481, 1249, 238, 737, 977, 769, 487, 487, 2000]\n",
    "# Time taken in seconds 0.04035687446594238 \n",
    "# Memory used  14737408\n",
    "# Kunals-MacBook-Air:Downloads kunal$ python3 Heuristic\\ Search.py\n",
    "# no_of_nodes   4000\n",
    "# BFS_search \n",
    "# Path to Goal Node  [1, 1447, 1558, 3358, 3911, 1295, 2943, 3473, 2040, 2966, 2966, 4000]\n",
    "# Time taken in seconds 0.014021158218383789 \n",
    "# Memory used  16232448"
   ]
  },
  {
   "cell_type": "markdown",
   "metadata": {},
   "source": [
    "## Best First Search Plot of Memory and Time vs Node_count"
   ]
  },
  {
   "cell_type": "code",
   "execution_count": 66,
   "metadata": {},
   "outputs": [
    {
     "data": {
      "image/png": "[encoded data removed]",
      "text/plain": [
       "<Figure size 432x288 with 1 Axes>"
      ]
     },
     "metadata": {
      "needs_background": "light"
     },
     "output_type": "display_data"
    },
    {
     "data": {
      "image/png": "[encoded data removed]",
      "text/plain": [
       "<Figure size 432x288 with 1 Axes>"
      ]
     },
     "metadata": {
      "needs_background": "light"
     },
     "output_type": "display_data"
    }
   ],
   "source": [
    "Nodes = [10,50,100,250,500,1000,2000,4000]\n",
    "Time_required = [0.00016689,0.00031495,0.000621795,0.012835025,0.0017430782,0.04794979095,0.0403568744,0.014021158]\n",
    "Memory_Used = [10760192,10764288,10756096,11329536,11247616,12992512,14737408,16232448]\n",
    "plt.plot(Nodes,Time_required)\n",
    "plt.xlabel('No of node')\n",
    "plt.ylabel('Time Required')\n",
    "plt.show()\n",
    "plt.title(\"Best First Search\")\n",
    "plt.plot(Nodes,Memory_Used)\n",
    "plt.xlabel('No of node')\n",
    "plt.ylabel('Memory Used')\n",
    "plt.show()"
   ]
  },
  {
   "cell_type": "code",
   "execution_count": 67,
   "metadata": {},
   "outputs": [],
   "source": [
    "# Kunals-MacBook-Air:Downloads kunal$ python3 Heuristic\\ Search.py\n",
    "# no_of_nodes   10\n",
    "# Astar_search\n",
    "# Path to Goal Node  [1, 9, 10]\n",
    "# Time taken in seconds 0.0002129077911376953 \n",
    "# Memory used  10846208\n",
    "# Kunals-MacBook-Air:Downloads kunal$ python3 Heuristic\\ Search.py\n",
    "# no_of_nodes   50\n",
    "# Astar_search\n",
    "# Path to Goal Node  [1, 36, 36, 50]\n",
    "# Time taken in seconds 0.0010228157043457031 \n",
    "# Memory used  10850304\n",
    "# Kunals-MacBook-Air:Downloads kunal$ python3 Heuristic\\ Search.py\n",
    "# no_of_nodes   100\n",
    "# Astar_search\n",
    "# Path to Goal Node  [1, 98, 52, 48, 33, 37, 10, 88, 75, 75, 100]\n",
    "# Time taken in seconds 0.0014400482177734375 \n",
    "# Memory used  10981376\n",
    "# Kunals-MacBook-Air:Downloads kunal$ python3 Heuristic\\ Search.py\n",
    "# no_of_nodes   250\n",
    "# Astar_search\n",
    "# Path to Goal Node  [1, 17, 117, 99, 140, 5, 250]\n",
    "# Time taken in seconds 0.0011372566223144531 \n",
    "# Memory used  11005952\n",
    "# Kunals-MacBook-Air:Downloads kunal$ python3 Heuristic\\ Search.py\n",
    "# no_of_nodes   500\n",
    "# Astar_search\n",
    "# Path to Goal Node  [1, 319, 319, 142, 500]\n",
    "# Time taken in seconds 0.011873960494995117 \n",
    "# Memory used  11382784\n",
    "# Kunals-MacBook-Air:Downloads kunal$ python3 Heuristic\\ Search.py\n",
    "# no_of_nodes   1000\n",
    "# Astar_search\n",
    "# Path to Goal Node  [1, 766, 766, 1000]\n",
    "# Time taken in seconds 0.08249497413635254 \n",
    "# Memory used  12431360\n",
    "# no_of_nodes   2000\n",
    "# Astar_search\n",
    "# Path to Goal Node  [1, 44, 382, 63, 1115, 920, 1888, 141, 2000]\n",
    "# Time taken in seconds 0.06563997268676758 \n",
    "# Memory used  13869056\n",
    "# Kunals-MacBook-Air:Downloads kunal$ python3 Heuristic\\ Search.py\n",
    "# no_of_nodes   3000\n",
    "# Astar_search\n",
    "# Path to Goal Node  [1, 2667, 2667, 3000]\n",
    "# Time taken in seconds 0.02209615707397461 \n",
    "# Memory used  15155200\n",
    "# Kunals-MacBook-Air:Downloads kunal$ python3 Heuristic\\ Search.py\n",
    "# no_of_nodes   4000\n",
    "# Astar_search\n",
    "# Path to Goal Node  [1, 2048, 2548, 2548, 4000]\n",
    "# Time taken in seconds 0.5084021091461182 \n",
    "# Memory used  17268736"
   ]
  },
  {
   "cell_type": "markdown",
   "metadata": {},
   "source": [
    "## Astar_search Plot of Memory and Time vs Node_count"
   ]
  },
  {
   "cell_type": "code",
   "execution_count": 68,
   "metadata": {},
   "outputs": [
    {
     "data": {
      "image/png": "[encoded data removed]",
      "text/plain": [
       "<Figure size 432x288 with 1 Axes>"
      ]
     },
     "metadata": {
      "needs_background": "light"
     },
     "output_type": "display_data"
    },
    {
     "data": {
      "image/png": "[encoded data removed]",
      "text/plain": [
       "<Figure size 432x288 with 1 Axes>"
      ]
     },
     "metadata": {
      "needs_background": "light"
     },
     "output_type": "display_data"
    }
   ],
   "source": [
    "Nodes = [10,50,100,250,500,1000,2000,3000,4000]\n",
    "Time_required = [0.000212907,0.00102281,0.00144004,0.0011372566,0.0118739604,0.082494974,0.0656399726,0.022096157,0.022096157]\n",
    "Memory_Used = [10846208,10850304,10981376,11005952,11382784,12431360,13869056,15155200,17268736]\n",
    "plt.plot(Nodes,Time_required)\n",
    "plt.xlabel('No of node')\n",
    "plt.ylabel('Time Required')\n",
    "plt.show()\n",
    "plt.title(\"Astar_search\")\n",
    "plt.plot(Nodes,Memory_Used)\n",
    "plt.xlabel('No of node')\n",
    "plt.ylabel('Memory Used')\n",
    "plt.show()"
   ]
  },
  {
   "cell_type": "code",
   "execution_count": 69,
   "metadata": {},
   "outputs": [],
   "source": [
    "# Kunals-MacBook-Air:Downloads kunal$ python3 Heuristic\\ Search.py\n",
    "# no_of_nodes   10\n",
    "# Hill_Beam_search\n",
    "# Path to Goal Node  [1, 10]\n",
    "# Time taken in seconds 5.793571472167969e-05 \n",
    "# Memory used  10858496\n",
    "# Kunals-MacBook-Air:Downloads kunal$ python3 Heuristic\\ Search.py\n",
    "# no_of_nodes   100\n",
    "# Hill_Beam_search\n",
    "# Path to Goal Node  [1, 49, 34, 43, 100]\n",
    "# Time taken in seconds 0.0003437995910644531 \n",
    "# Memory used  10977280\n",
    "# Kunals-MacBook-Air:Downloads kunal$ python3 Heuristic\\ Search.py\n",
    "# no_of_nodes   1000\n",
    "# Hill_Beam_search\n",
    "# Path to Goal Node  [1, 453, 982, 982, 1000]\n",
    "# Time taken in seconds 0.0035610198974609375 \n",
    "# Memory used  11927552\n",
    "# Kunals-MacBook-Air:Downloads kunal$ python3 Heuristic\\ Search.py\n",
    "# no_of_nodes   5000\n",
    "# Hill_Beam_search\n",
    "# Path to Goal Node  [1, 1577, 1577, 5000]\n",
    "# Time taken in seconds 0.043784141540527344 \n",
    "# Memory used  17055744\n",
    "# Kunals-MacBook-Air:Downloads kunal$ python3 Heuristic\\ Search.py\n",
    "# no_of_nodes   10000\n",
    "# Hill_Beam_search\n",
    "# Path to Goal Node  [1, 297, 4304, 3309, 1191, 703, 5443, 8789, 71, 7412, 3106, 9717, 7296, 691, 7534, 339, 4490, 1885, 3058, 6095, 3012, 4763, 4763, 10000]\n",
    "# Time taken in seconds 0.04376387596130371 \n",
    "# Memory used  24899584\n",
    "# Kunals-MacBook-Air:Downloads kunal$ python3 Heuristic\\ Search.py\n",
    "# no_of_nodes   25000\n",
    "# Hill_Beam_search\n",
    "# Path to Goal Node  [1, 24118, 348, 19171, 13468, 6702, 12208, 18028, 18025, 21315, 10570, 14949, 3497, 3115, 4561, 21667, 11984, 22589, 2925, 13609, 3401, 4944, 1305, 11567, 4716, 8693, 11357, 18910, 11309, 1215, 23777, 23556, 11175, 15098, 11855, 11855, 25000]\n",
    "# Time taken in seconds 0.1277623176574707 \n",
    "# Memory used  52760576\n",
    "# Kunals-MacBook-Air:Downloads kunal$ python3 Heuristic\\ Search.py\n",
    "# no_of_nodes   50000\n",
    "# Hill_Beam_search\n",
    "# Path to Goal Node  [1, 45, 25755, 24971, 24971, 50000]\n",
    "# Time taken in seconds 0.19859099388122559 \n",
    "# Memory used  83341312\n",
    "# Kunals-MacBook-Air:Downloads kunal$ python3 Heuristic\\ Search.py\n",
    "# no_of_nodes   100000\n",
    "# Hill_Beam_search\n",
    "# Path to Goal Node  [1, 26500, 40223, 90308, 29470, 71431, 41006, 20171, 3501, 93896, 93896, 100000]\n",
    "# Time taken in seconds 0.41624879837036133 \n",
    "# Memory used  161873920\n",
    "# Kunals-MacBook-Air:Downloads kunal$ python3 Heuristic\\ Search.py\n",
    "# no_of_nodes   500000\n",
    "# Hill_Beam_search\n",
    "# Path to Goal Node  [1, 356539, 178401, 376626, 464598, 97146, 132897, 304096, 122228, 219242, 298, 469972, 469972, 500000]\n",
    "# Time taken in seconds 6.564751148223877 \n",
    "# Memory used  737292288\n",
    "# Kunals-MacBook-Air:Downloads kunal$ python3 Heuristic\\ Search.py\n",
    "# no_of_nodes   1000000\n",
    "# Hill_Beam_search\n",
    "# Path to Goal Node  [1, 24177, 540952, 344163, 381569, 245486, 534158, 700727, 960454, 873535, 63250, 122340, 801470, 335976, 878802, 998448, 361307, 170238, 824090, 473169, 849080, 590516, 787385, 758168, 218586, 12547, 132812, 327846, 265635, 488177, 737382, 462401, 87092, 616615, 616615, 1000000]\n",
    "# Time taken in seconds 5.239784240722656 \n",
    "# Memory used  1641615360\n",
    "# Kunals-MacBook-Air:Downloads kunal$ python3 Heuristic\\ Search.py\n",
    "# no_of_nodes   10000000\n",
    "# Hill_Beam_search\n",
    "# Path to Goal Node  [1, 2640258, 8729967, 9407005, 5387499, 3590764, 7698819, 6513138, 1733253, 1733253, 10000000]\n",
    "# Time taken in seconds 114.42948770523071 \n",
    "# Memory used  2060107776"
   ]
  },
  {
   "cell_type": "markdown",
   "metadata": {},
   "source": [
    "## Hill_Beam_search  Plot of Memory and Time vs Node_count"
   ]
  },
  {
   "cell_type": "code",
   "execution_count": 70,
   "metadata": {},
   "outputs": [
    {
     "data": {
      "image/png": "[encoded data removed]",
      "text/plain": [
       "<Figure size 432x288 with 1 Axes>"
      ]
     },
     "metadata": {
      "needs_background": "light"
     },
     "output_type": "display_data"
    },
    {
     "data": {
      "image/png": "[encoded data removed]",
      "text/plain": [
       "<Figure size 432x288 with 1 Axes>"
      ]
     },
     "metadata": {
      "needs_background": "light"
     },
     "output_type": "display_data"
    }
   ],
   "source": [
    "Nodes = [10,100,1000,5000,10000,25000,50000,100000,500000,1000000,10000000]\n",
    "Time_required = [5.793571472167969e-05,0.0003437995,0.0035610198,0.043763875,0.043763875,0.12776231,0.198590993,0.4162487983,6.56475114,5.23978424,114.42948770]\n",
    "Memory_Used = [10858496,10977280,11927552,17055744,24899584,52760576,83341312,161873920,737292288,1641615360,2060107776]\n",
    "plt.plot(Nodes,Time_required)\n",
    "plt.xlabel('No of node')\n",
    "plt.ylabel('Time Required')\n",
    "plt.show()\n",
    "plt.title(\"Hill_Beam_search\")\n",
    "plt.plot(Nodes,Memory_Used)\n",
    "plt.xlabel('No of node')\n",
    "plt.ylabel('Memory Used')\n",
    "plt.show()"
   ]
  },
  {
   "cell_type": "markdown",
   "metadata": {},
   "source": [
    "### As the graph is randomly generated running time required for large input can be smaller as there can be relatively short path between Start node and Goal node"
   ]
  },
  {
   "cell_type": "code",
   "execution_count": null,
   "metadata": {},
   "outputs": [],
   "source": []
  }
 ],
 "metadata": {
  "kernelspec": {
   "display_name": "Python 3",
   "language": "python",
   "name": "python3"
  },
  "language_info": {
   "codemirror_mode": {
    "name": "ipython",
    "version": 3
   },
   "file_extension": ".py",
   "mimetype": "text/x-python",
   "name": "python",
   "nbconvert_exporter": "python",
   "pygments_lexer": "ipython3",
   "version": "3.6.5"
  }
 },
 "nbformat": 4,
 "nbformat_minor": 2
}
